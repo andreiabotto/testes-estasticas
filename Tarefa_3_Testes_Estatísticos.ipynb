{
  "nbformat": 4,
  "nbformat_minor": 0,
  "metadata": {
    "colab": {
      "provenance": []
    },
    "kernelspec": {
      "name": "python3",
      "display_name": "Python 3"
    },
    "language_info": {
      "name": "python"
    }
  },
  "cells": [
    {
      "cell_type": "markdown",
      "source": [
        "# Datasets"
      ],
      "metadata": {
        "id": "6q2FZhtjglAQ"
      }
    },
    {
      "cell_type": "code",
      "source": [
        "from google.colab import drive\n",
        "drive.mount('/content/drive')"
      ],
      "metadata": {
        "colab": {
          "base_uri": "https://localhost:8080/"
        },
        "id": "BLgaPXF1gkj4",
        "outputId": "ef455ff3-60b5-4031-c2ed-89e1a7c9233f"
      },
      "execution_count": null,
      "outputs": [
        {
          "output_type": "stream",
          "name": "stdout",
          "text": [
            "Drive already mounted at /content/drive; to attempt to forcibly remount, call drive.mount(\"/content/drive\", force_remount=True).\n"
          ]
        }
      ]
    },
    {
      "cell_type": "code",
      "source": [
        "!ls  /content/drive/MyDrive/Outros/paired.csv"
      ],
      "metadata": {
        "colab": {
          "base_uri": "https://localhost:8080/"
        },
        "id": "NHKmeI6Bg_34",
        "outputId": "9aef4893-059b-446b-e038-c6d08a064307"
      },
      "execution_count": null,
      "outputs": [
        {
          "output_type": "stream",
          "name": "stdout",
          "text": [
            "/content/drive/MyDrive/Outros/paired.csv\n"
          ]
        }
      ]
    },
    {
      "cell_type": "code",
      "source": [
        "import pandas as pd\n",
        "import matplotlib.pyplot as plt \n",
        "import seaborn as sns\n",
        "import numpy as np\n",
        "import scipy.stats as stats"
      ],
      "metadata": {
        "id": "ADw6BtWAhrOC"
      },
      "execution_count": null,
      "outputs": []
    },
    {
      "cell_type": "markdown",
      "source": [
        ">Paired"
      ],
      "metadata": {
        "id": "nPNDbVshgq6b"
      }
    },
    {
      "cell_type": "code",
      "execution_count": null,
      "metadata": {
        "colab": {
          "base_uri": "https://localhost:8080/",
          "height": 206
        },
        "id": "vNXmAuUlgROc",
        "outputId": "11f32f0c-f7a1-4000-e079-b84d3b715ab4"
      },
      "outputs": [
        {
          "output_type": "execute_result",
          "data": {
            "text/plain": [
              "          Clone  August  November\n",
              "0  Balsam_Spire     8.1      11.2\n",
              "1       Beaupre    10.0      16.3\n",
              "2     Hazendans    16.5      15.3\n",
              "3     Hoogvorst    13.6      15.6\n",
              "4      Raspalje     9.5      10.5"
            ],
            "text/html": [
              "\n",
              "  <div id=\"df-34576e25-883c-433d-8819-8c7ab16e9d3d\">\n",
              "    <div class=\"colab-df-container\">\n",
              "      <div>\n",
              "<style scoped>\n",
              "    .dataframe tbody tr th:only-of-type {\n",
              "        vertical-align: middle;\n",
              "    }\n",
              "\n",
              "    .dataframe tbody tr th {\n",
              "        vertical-align: top;\n",
              "    }\n",
              "\n",
              "    .dataframe thead th {\n",
              "        text-align: right;\n",
              "    }\n",
              "</style>\n",
              "<table border=\"1\" class=\"dataframe\">\n",
              "  <thead>\n",
              "    <tr style=\"text-align: right;\">\n",
              "      <th></th>\n",
              "      <th>Clone</th>\n",
              "      <th>August</th>\n",
              "      <th>November</th>\n",
              "    </tr>\n",
              "  </thead>\n",
              "  <tbody>\n",
              "    <tr>\n",
              "      <th>0</th>\n",
              "      <td>Balsam_Spire</td>\n",
              "      <td>8.1</td>\n",
              "      <td>11.2</td>\n",
              "    </tr>\n",
              "    <tr>\n",
              "      <th>1</th>\n",
              "      <td>Beaupre</td>\n",
              "      <td>10.0</td>\n",
              "      <td>16.3</td>\n",
              "    </tr>\n",
              "    <tr>\n",
              "      <th>2</th>\n",
              "      <td>Hazendans</td>\n",
              "      <td>16.5</td>\n",
              "      <td>15.3</td>\n",
              "    </tr>\n",
              "    <tr>\n",
              "      <th>3</th>\n",
              "      <td>Hoogvorst</td>\n",
              "      <td>13.6</td>\n",
              "      <td>15.6</td>\n",
              "    </tr>\n",
              "    <tr>\n",
              "      <th>4</th>\n",
              "      <td>Raspalje</td>\n",
              "      <td>9.5</td>\n",
              "      <td>10.5</td>\n",
              "    </tr>\n",
              "  </tbody>\n",
              "</table>\n",
              "</div>\n",
              "      <button class=\"colab-df-convert\" onclick=\"convertToInteractive('df-34576e25-883c-433d-8819-8c7ab16e9d3d')\"\n",
              "              title=\"Convert this dataframe to an interactive table.\"\n",
              "              style=\"display:none;\">\n",
              "        \n",
              "  <svg xmlns=\"http://www.w3.org/2000/svg\" height=\"24px\"viewBox=\"0 0 24 24\"\n",
              "       width=\"24px\">\n",
              "    <path d=\"M0 0h24v24H0V0z\" fill=\"none\"/>\n",
              "    <path d=\"M18.56 5.44l.94 2.06.94-2.06 2.06-.94-2.06-.94-.94-2.06-.94 2.06-2.06.94zm-11 1L8.5 8.5l.94-2.06 2.06-.94-2.06-.94L8.5 2.5l-.94 2.06-2.06.94zm10 10l.94 2.06.94-2.06 2.06-.94-2.06-.94-.94-2.06-.94 2.06-2.06.94z\"/><path d=\"M17.41 7.96l-1.37-1.37c-.4-.4-.92-.59-1.43-.59-.52 0-1.04.2-1.43.59L10.3 9.45l-7.72 7.72c-.78.78-.78 2.05 0 2.83L4 21.41c.39.39.9.59 1.41.59.51 0 1.02-.2 1.41-.59l7.78-7.78 2.81-2.81c.8-.78.8-2.07 0-2.86zM5.41 20L4 18.59l7.72-7.72 1.47 1.35L5.41 20z\"/>\n",
              "  </svg>\n",
              "      </button>\n",
              "      \n",
              "  <style>\n",
              "    .colab-df-container {\n",
              "      display:flex;\n",
              "      flex-wrap:wrap;\n",
              "      gap: 12px;\n",
              "    }\n",
              "\n",
              "    .colab-df-convert {\n",
              "      background-color: #E8F0FE;\n",
              "      border: none;\n",
              "      border-radius: 50%;\n",
              "      cursor: pointer;\n",
              "      display: none;\n",
              "      fill: #1967D2;\n",
              "      height: 32px;\n",
              "      padding: 0 0 0 0;\n",
              "      width: 32px;\n",
              "    }\n",
              "\n",
              "    .colab-df-convert:hover {\n",
              "      background-color: #E2EBFA;\n",
              "      box-shadow: 0px 1px 2px rgba(60, 64, 67, 0.3), 0px 1px 3px 1px rgba(60, 64, 67, 0.15);\n",
              "      fill: #174EA6;\n",
              "    }\n",
              "\n",
              "    [theme=dark] .colab-df-convert {\n",
              "      background-color: #3B4455;\n",
              "      fill: #D2E3FC;\n",
              "    }\n",
              "\n",
              "    [theme=dark] .colab-df-convert:hover {\n",
              "      background-color: #434B5C;\n",
              "      box-shadow: 0px 1px 3px 1px rgba(0, 0, 0, 0.15);\n",
              "      filter: drop-shadow(0px 1px 2px rgba(0, 0, 0, 0.3));\n",
              "      fill: #FFFFFF;\n",
              "    }\n",
              "  </style>\n",
              "\n",
              "      <script>\n",
              "        const buttonEl =\n",
              "          document.querySelector('#df-34576e25-883c-433d-8819-8c7ab16e9d3d button.colab-df-convert');\n",
              "        buttonEl.style.display =\n",
              "          google.colab.kernel.accessAllowed ? 'block' : 'none';\n",
              "\n",
              "        async function convertToInteractive(key) {\n",
              "          const element = document.querySelector('#df-34576e25-883c-433d-8819-8c7ab16e9d3d');\n",
              "          const dataTable =\n",
              "            await google.colab.kernel.invokeFunction('convertToInteractive',\n",
              "                                                     [key], {});\n",
              "          if (!dataTable) return;\n",
              "\n",
              "          const docLinkHtml = 'Like what you see? Visit the ' +\n",
              "            '<a target=\"_blank\" href=https://colab.research.google.com/notebooks/data_table.ipynb>data table notebook</a>'\n",
              "            + ' to learn more about interactive tables.';\n",
              "          element.innerHTML = '';\n",
              "          dataTable['output_type'] = 'display_data';\n",
              "          await google.colab.output.renderOutput(dataTable, element);\n",
              "          const docLink = document.createElement('div');\n",
              "          docLink.innerHTML = docLinkHtml;\n",
              "          element.appendChild(docLink);\n",
              "        }\n",
              "      </script>\n",
              "    </div>\n",
              "  </div>\n",
              "  "
            ]
          },
          "metadata": {},
          "execution_count": 2
        }
      ],
      "source": [
        "paired = pd.read_csv('/content/drive/MyDrive/Outros/paired.csv')\n",
        "paired.head()"
      ]
    },
    {
      "cell_type": "markdown",
      "source": [
        ">BP"
      ],
      "metadata": {
        "id": "DNOW3uH-h2dt"
      }
    },
    {
      "cell_type": "code",
      "source": [
        "bp = pd.read_csv('/content/drive/MyDrive/Outros/bp.csv')\n",
        "bp.head()"
      ],
      "metadata": {
        "colab": {
          "base_uri": "https://localhost:8080/",
          "height": 206
        },
        "id": "2egqNrrfh5uZ",
        "outputId": "46a26658-bd1b-4159-a3b6-d2c861ed6476"
      },
      "execution_count": null,
      "outputs": [
        {
          "output_type": "execute_result",
          "data": {
            "text/plain": [
              "   bp type\n",
              "0  68   No\n",
              "1  70  Yes\n",
              "2  82   No\n",
              "3  76   No\n",
              "4  60   No"
            ],
            "text/html": [
              "\n",
              "  <div id=\"df-54bee6c9-f768-4e82-ad95-59464b666463\">\n",
              "    <div class=\"colab-df-container\">\n",
              "      <div>\n",
              "<style scoped>\n",
              "    .dataframe tbody tr th:only-of-type {\n",
              "        vertical-align: middle;\n",
              "    }\n",
              "\n",
              "    .dataframe tbody tr th {\n",
              "        vertical-align: top;\n",
              "    }\n",
              "\n",
              "    .dataframe thead th {\n",
              "        text-align: right;\n",
              "    }\n",
              "</style>\n",
              "<table border=\"1\" class=\"dataframe\">\n",
              "  <thead>\n",
              "    <tr style=\"text-align: right;\">\n",
              "      <th></th>\n",
              "      <th>bp</th>\n",
              "      <th>type</th>\n",
              "    </tr>\n",
              "  </thead>\n",
              "  <tbody>\n",
              "    <tr>\n",
              "      <th>0</th>\n",
              "      <td>68</td>\n",
              "      <td>No</td>\n",
              "    </tr>\n",
              "    <tr>\n",
              "      <th>1</th>\n",
              "      <td>70</td>\n",
              "      <td>Yes</td>\n",
              "    </tr>\n",
              "    <tr>\n",
              "      <th>2</th>\n",
              "      <td>82</td>\n",
              "      <td>No</td>\n",
              "    </tr>\n",
              "    <tr>\n",
              "      <th>3</th>\n",
              "      <td>76</td>\n",
              "      <td>No</td>\n",
              "    </tr>\n",
              "    <tr>\n",
              "      <th>4</th>\n",
              "      <td>60</td>\n",
              "      <td>No</td>\n",
              "    </tr>\n",
              "  </tbody>\n",
              "</table>\n",
              "</div>\n",
              "      <button class=\"colab-df-convert\" onclick=\"convertToInteractive('df-54bee6c9-f768-4e82-ad95-59464b666463')\"\n",
              "              title=\"Convert this dataframe to an interactive table.\"\n",
              "              style=\"display:none;\">\n",
              "        \n",
              "  <svg xmlns=\"http://www.w3.org/2000/svg\" height=\"24px\"viewBox=\"0 0 24 24\"\n",
              "       width=\"24px\">\n",
              "    <path d=\"M0 0h24v24H0V0z\" fill=\"none\"/>\n",
              "    <path d=\"M18.56 5.44l.94 2.06.94-2.06 2.06-.94-2.06-.94-.94-2.06-.94 2.06-2.06.94zm-11 1L8.5 8.5l.94-2.06 2.06-.94-2.06-.94L8.5 2.5l-.94 2.06-2.06.94zm10 10l.94 2.06.94-2.06 2.06-.94-2.06-.94-.94-2.06-.94 2.06-2.06.94z\"/><path d=\"M17.41 7.96l-1.37-1.37c-.4-.4-.92-.59-1.43-.59-.52 0-1.04.2-1.43.59L10.3 9.45l-7.72 7.72c-.78.78-.78 2.05 0 2.83L4 21.41c.39.39.9.59 1.41.59.51 0 1.02-.2 1.41-.59l7.78-7.78 2.81-2.81c.8-.78.8-2.07 0-2.86zM5.41 20L4 18.59l7.72-7.72 1.47 1.35L5.41 20z\"/>\n",
              "  </svg>\n",
              "      </button>\n",
              "      \n",
              "  <style>\n",
              "    .colab-df-container {\n",
              "      display:flex;\n",
              "      flex-wrap:wrap;\n",
              "      gap: 12px;\n",
              "    }\n",
              "\n",
              "    .colab-df-convert {\n",
              "      background-color: #E8F0FE;\n",
              "      border: none;\n",
              "      border-radius: 50%;\n",
              "      cursor: pointer;\n",
              "      display: none;\n",
              "      fill: #1967D2;\n",
              "      height: 32px;\n",
              "      padding: 0 0 0 0;\n",
              "      width: 32px;\n",
              "    }\n",
              "\n",
              "    .colab-df-convert:hover {\n",
              "      background-color: #E2EBFA;\n",
              "      box-shadow: 0px 1px 2px rgba(60, 64, 67, 0.3), 0px 1px 3px 1px rgba(60, 64, 67, 0.15);\n",
              "      fill: #174EA6;\n",
              "    }\n",
              "\n",
              "    [theme=dark] .colab-df-convert {\n",
              "      background-color: #3B4455;\n",
              "      fill: #D2E3FC;\n",
              "    }\n",
              "\n",
              "    [theme=dark] .colab-df-convert:hover {\n",
              "      background-color: #434B5C;\n",
              "      box-shadow: 0px 1px 3px 1px rgba(0, 0, 0, 0.15);\n",
              "      filter: drop-shadow(0px 1px 2px rgba(0, 0, 0, 0.3));\n",
              "      fill: #FFFFFF;\n",
              "    }\n",
              "  </style>\n",
              "\n",
              "      <script>\n",
              "        const buttonEl =\n",
              "          document.querySelector('#df-54bee6c9-f768-4e82-ad95-59464b666463 button.colab-df-convert');\n",
              "        buttonEl.style.display =\n",
              "          google.colab.kernel.accessAllowed ? 'block' : 'none';\n",
              "\n",
              "        async function convertToInteractive(key) {\n",
              "          const element = document.querySelector('#df-54bee6c9-f768-4e82-ad95-59464b666463');\n",
              "          const dataTable =\n",
              "            await google.colab.kernel.invokeFunction('convertToInteractive',\n",
              "                                                     [key], {});\n",
              "          if (!dataTable) return;\n",
              "\n",
              "          const docLinkHtml = 'Like what you see? Visit the ' +\n",
              "            '<a target=\"_blank\" href=https://colab.research.google.com/notebooks/data_table.ipynb>data table notebook</a>'\n",
              "            + ' to learn more about interactive tables.';\n",
              "          element.innerHTML = '';\n",
              "          dataTable['output_type'] = 'display_data';\n",
              "          await google.colab.output.renderOutput(dataTable, element);\n",
              "          const docLink = document.createElement('div');\n",
              "          docLink.innerHTML = docLinkHtml;\n",
              "          element.appendChild(docLink);\n",
              "        }\n",
              "      </script>\n",
              "    </div>\n",
              "  </div>\n",
              "  "
            ]
          },
          "metadata": {},
          "execution_count": 3
        }
      ]
    },
    {
      "cell_type": "markdown",
      "source": [
        "# Análise"
      ],
      "metadata": {
        "id": "XcUnzg6oiBny"
      }
    },
    {
      "cell_type": "markdown",
      "source": [
        "> BP\n"
      ],
      "metadata": {
        "id": "3t6jeYUkOHSr"
      }
    },
    {
      "cell_type": "markdown",
      "source": [
        "Criado um histograma para identificar os valores da pressão sanguinea"
      ],
      "metadata": {
        "id": "J-sU70c4kf01"
      }
    },
    {
      "cell_type": "code",
      "source": [
        "plt.hist(bp['bp'], bins='auto')\n",
        "plt.title(\"Histograma\")\n",
        "plt.show()"
      ],
      "metadata": {
        "colab": {
          "base_uri": "https://localhost:8080/",
          "height": 281
        },
        "id": "poAoM8NVkYdU",
        "outputId": "dc016e5c-02d4-45b8-9b7f-44e462cf2060"
      },
      "execution_count": null,
      "outputs": [
        {
          "output_type": "display_data",
          "data": {
            "text/plain": [
              "<Figure size 432x288 with 1 Axes>"
            ],
            "image/png": "[encoded data removed]"
          },
          "metadata": {
            "needs_background": "light"
          }
        }
      ]
    },
    {
      "cell_type": "markdown",
      "source": [
        "Gerando duas amostras e calculando suas médias"
      ],
      "metadata": {
        "id": "CsqJdx3gk4kU"
      }
    },
    {
      "cell_type": "code",
      "source": [
        "pop = bp['bp']\n",
        "diabet = bp[bp['type'] == \"Yes\"]['bp']\n",
        "ndiabet = bp[bp['type'] == \"No\"]['bp']"
      ],
      "metadata": {
        "id": "Q2N-FMGVlHWf"
      },
      "execution_count": 39,
      "outputs": []
    },
    {
      "cell_type": "code",
      "source": [
        "plt.figure(figsize=(10,10))\n",
        "plt.xlabel('Pressão Sanguínea')\n",
        "diabet.hist(alpha=0.8,bins=50,label='Diabético', density=True)\n",
        "ndiabet.hist(alpha=0.6,bins=50,label='Saudável', density=True)\n",
        "plt.legend();"
      ],
      "metadata": {
        "colab": {
          "base_uri": "https://localhost:8080/",
          "height": 606
        },
        "id": "5r4_XuA21Mlc",
        "outputId": "e071f53d-4216-40f4-a19a-86cc35277b40"
      },
      "execution_count": 40,
      "outputs": [
        {
          "output_type": "display_data",
          "data": {
            "text/plain": [
              "<Figure size 720x720 with 1 Axes>"
            ],
            "image/png": "[encoded data removed]"
          },
          "metadata": {
            "needs_background": "light"
          }
        }
      ]
    },
    {
      "cell_type": "code",
      "source": [
        "#Amosta de valores que possuem diabete\n",
        "p1 = diabet\n",
        "np.mean(diabet)"
      ],
      "metadata": {
        "colab": {
          "base_uri": "https://localhost:8080/"
        },
        "id": "M0ZkJ6Szk3Wa",
        "outputId": "90cf0647-3a5a-4864-b8f9-2b291cbef2ed"
      },
      "execution_count": 29,
      "outputs": [
        {
          "output_type": "execute_result",
          "data": {
            "text/plain": [
              "74.58823529411765"
            ]
          },
          "metadata": {},
          "execution_count": 29
        }
      ]
    },
    {
      "cell_type": "code",
      "source": [
        "np.median(diabet)"
      ],
      "metadata": {
        "colab": {
          "base_uri": "https://localhost:8080/"
        },
        "id": "rQOhjbcDxeCH",
        "outputId": "95b2120f-d5f8-4c02-f766-14208ebc2a3f"
      },
      "execution_count": 28,
      "outputs": [
        {
          "output_type": "execute_result",
          "data": {
            "text/plain": [
              "76.0"
            ]
          },
          "metadata": {},
          "execution_count": 28
        }
      ]
    },
    {
      "cell_type": "code",
      "source": [
        "#Amosta de valores que não possuem diabete\n",
        "p2 = ndiabet\n",
        "np.mean(ndiabet)\n"
      ],
      "metadata": {
        "colab": {
          "base_uri": "https://localhost:8080/"
        },
        "id": "3wfCfHtclEfv",
        "outputId": "4e4b11d1-5d99-4079-874d-8d7ec21f3d0a"
      },
      "execution_count": 26,
      "outputs": [
        {
          "output_type": "execute_result",
          "data": {
            "text/plain": [
              "69.54545454545455"
            ]
          },
          "metadata": {},
          "execution_count": 26
        }
      ]
    },
    {
      "cell_type": "code",
      "source": [
        "np.median(ndiabet)"
      ],
      "metadata": {
        "colab": {
          "base_uri": "https://localhost:8080/"
        },
        "id": "885oQ6RKxbQm",
        "outputId": "4acf867a-fc93-468e-bd15-ddaea4c8f098"
      },
      "execution_count": 27,
      "outputs": [
        {
          "output_type": "execute_result",
          "data": {
            "text/plain": [
              "70.0"
            ]
          },
          "metadata": {},
          "execution_count": 27
        }
      ]
    },
    {
      "cell_type": "code",
      "source": [
        "len(diabet), len(ndiabet)"
      ],
      "metadata": {
        "colab": {
          "base_uri": "https://localhost:8080/"
        },
        "id": "-az4unRy3nLS",
        "outputId": "40eef486-b439-4bc1-8b63-3913cf3fa2a6"
      },
      "execution_count": null,
      "outputs": [
        {
          "output_type": "execute_result",
          "data": {
            "text/plain": [
              "(68, 132)"
            ]
          },
          "metadata": {},
          "execution_count": 8
        }
      ]
    },
    {
      "cell_type": "markdown",
      "source": [
        "> Teste T"
      ],
      "metadata": {
        "id": "7HzUeCgHiOuX"
      }
    },
    {
      "cell_type": "code",
      "source": [
        "stats.ttest_ind(p1,p2)"
      ],
      "metadata": {
        "colab": {
          "base_uri": "https://localhost:8080/"
        },
        "id": "rK273N_n_ebH",
        "outputId": "5e753239-d59f-4b12-8e6b-20b1aa3ab68e"
      },
      "execution_count": null,
      "outputs": [
        {
          "output_type": "execute_result",
          "data": {
            "text/plain": [
              "Ttest_indResult(statistic=3.001495202122035, pvalue=0.0030323591864622732)"
            ]
          },
          "metadata": {},
          "execution_count": 9
        }
      ]
    },
    {
      "cell_type": "markdown",
      "source": [
        "> Wilcoxon rank sum - Não Pareados"
      ],
      "metadata": {
        "id": "uDDsTNPfiV2j"
      }
    },
    {
      "cell_type": "code",
      "source": [
        "stat, p = stats.ranksums(p1,p2)\n",
        "print('stat=%.3f, p=%.3f' % (stat, p))\n",
        "if p > 0.05:\n",
        "\tprint('Probably the same distribution')\n",
        "else:\n",
        "\tprint('Probably different distributions')"
      ],
      "metadata": {
        "colab": {
          "base_uri": "https://localhost:8080/"
        },
        "id": "qE5h9RaoAmVj",
        "outputId": "e9e3126c-0cf7-4ccf-92d9-4bef7ccbebca"
      },
      "execution_count": null,
      "outputs": [
        {
          "output_type": "stream",
          "name": "stdout",
          "text": [
            "stat=3.046, p=0.002\n",
            "Probably different distributions\n"
          ]
        }
      ]
    },
    {
      "cell_type": "markdown",
      "source": [
        ">Wilcoxon rank sum - Pareados"
      ],
      "metadata": {
        "id": "1tPxSGxQUtA4"
      }
    },
    {
      "cell_type": "code",
      "source": [
        "stat, p = stats.wilcoxon(p1)\n",
        "print('stat=%.3f, p=%.3f' % (stat, p))\n",
        "if p > 0.05:\n",
        "\tprint('Probably the same distribution')\n",
        "else:\n",
        "\tprint('Probably different distributions')"
      ],
      "metadata": {
        "colab": {
          "base_uri": "https://localhost:8080/"
        },
        "id": "Ja7oZxK8Uybh",
        "outputId": "3168cdb7-b6c6-4ac2-f2b6-128554fca2a6"
      },
      "execution_count": null,
      "outputs": [
        {
          "output_type": "stream",
          "name": "stdout",
          "text": [
            "stat=0.000, p=0.000\n",
            "Probably different distributions\n"
          ]
        }
      ]
    },
    {
      "cell_type": "code",
      "source": [
        "p2 = np.random.choice(ndiabet, 68)  #p2 tem agora mesmo tamanho de p1\n",
        "len(p1), len(p2)"
      ],
      "metadata": {
        "colab": {
          "base_uri": "https://localhost:8080/"
        },
        "id": "FMtyOG_yVSLr",
        "outputId": "64c330ff-82fc-49c0-a066-d17c311fabed"
      },
      "execution_count": null,
      "outputs": [
        {
          "output_type": "execute_result",
          "data": {
            "text/plain": [
              "(68, 68)"
            ]
          },
          "metadata": {},
          "execution_count": 12
        }
      ]
    },
    {
      "cell_type": "code",
      "source": [
        "stat, p = stats.wilcoxon(p1,p2)\n",
        "print('stat=%.3f, p=%.3f' % (stat, p))\n",
        "if p > 0.05:\n",
        "\tprint('Probably the same distribution')\n",
        "else:\n",
        "\tprint('Probably different distributions')"
      ],
      "metadata": {
        "colab": {
          "base_uri": "https://localhost:8080/"
        },
        "id": "ZVnmBv-LU2a9",
        "outputId": "271ec858-c6f2-40c0-cc0b-5d9bd6cd936e"
      },
      "execution_count": null,
      "outputs": [
        {
          "output_type": "stream",
          "name": "stdout",
          "text": [
            "stat=582.000, p=0.002\n",
            "Probably different distributions\n"
          ]
        }
      ]
    },
    {
      "cell_type": "markdown",
      "source": [
        "> Indíce de confiança"
      ],
      "metadata": {
        "id": "fkeE-iVKbrvE"
      }
    },
    {
      "cell_type": "code",
      "source": [
        "pp1 = (p1,) \n",
        "bootstrap_ci_1 = stats.bootstrap(pp1, np.mean, confidence_level=0.95,\n",
        "                         random_state=1, method='BCa')\n",
        "\n",
        "#IC 95% \n",
        "print(bootstrap_ci_1.confidence_interval)"
      ],
      "metadata": {
        "colab": {
          "base_uri": "https://localhost:8080/"
        },
        "id": "gRS1H_vPihux",
        "outputId": "f9855eac-c8f4-4e18-b5dc-9ed847275b17"
      },
      "execution_count": null,
      "outputs": [
        {
          "output_type": "stream",
          "name": "stdout",
          "text": [
            "ConfidenceInterval(low=71.77941176470588, high=77.29411764705883)\n"
          ]
        }
      ]
    },
    {
      "cell_type": "code",
      "source": [
        "pp2 = (p2,) \n",
        "bootstrap_ci_2 = stats.bootstrap(pp2, np.mean, confidence_level=0.95,\n",
        "                         random_state=1, method='BCa')\n",
        "\n",
        "#IC 95% \n",
        "print(bootstrap_ci_2.confidence_interval)"
      ],
      "metadata": {
        "colab": {
          "base_uri": "https://localhost:8080/"
        },
        "id": "KB7oqzXqihfI",
        "outputId": "d13f77ce-1e53-45e7-bda4-eac6f89c4090"
      },
      "execution_count": null,
      "outputs": [
        {
          "output_type": "stream",
          "name": "stdout",
          "text": [
            "ConfidenceInterval(low=65.98529411764706, high=70.76470588235294)\n"
          ]
        }
      ]
    },
    {
      "cell_type": "code",
      "source": [
        "p4 = (pop,) \n",
        "bootstrap_ci_4 = stats.bootstrap(p4, np.mean, confidence_level=0.95,\n",
        "                         random_state=1, method='BCa')\n",
        "\n",
        "#IC 95% \n",
        "print(bootstrap_ci_4.confidence_interval)"
      ],
      "metadata": {
        "colab": {
          "base_uri": "https://localhost:8080/"
        },
        "id": "ktprZlXYfoXo",
        "outputId": "22fd9619-33a3-41ac-88ab-a52f3d4f83f5"
      },
      "execution_count": null,
      "outputs": [
        {
          "output_type": "stream",
          "name": "stdout",
          "text": [
            "ConfidenceInterval(low=69.665, high=72.835)\n"
          ]
        }
      ]
    },
    {
      "cell_type": "markdown",
      "source": [
        "> Distribuição Normal"
      ],
      "metadata": {
        "id": "RNjoY9jJfMQ6"
      }
    },
    {
      "cell_type": "code",
      "source": [
        "p4 = np.random.choice(pop, 50)  #p1 tem menos que 30 elementos\n",
        "stats.norm.interval(0.95, loc=np.mean(p4), scale=stats.sem(p4))"
      ],
      "metadata": {
        "colab": {
          "base_uri": "https://localhost:8080/"
        },
        "id": "LypXNh4nfL49",
        "outputId": "e7a1d03e-4a22-4e69-84ff-39b624fba00f"
      },
      "execution_count": null,
      "outputs": [
        {
          "output_type": "execute_result",
          "data": {
            "text/plain": [
              "(66.58336577342905, 73.53663422657095)"
            ]
          },
          "metadata": {},
          "execution_count": 17
        }
      ]
    },
    {
      "cell_type": "code",
      "source": [
        "from math import sqrt\n",
        " \n",
        "# function to calculate Cohen's d for independent samples\n",
        "def cohend(d1, d2):\n",
        "\t# calculate the size of samples\n",
        "\tn1, n2 = len(d1), len(d2)\n",
        "\t# calculate the variance of the samples\n",
        "\ts1, s2 = np.var(d1, ddof=1), np.var(d2, ddof=1)\n",
        "\t# calculate the pooled standard deviation\n",
        "\ts = sqrt(((n1 - 1) * s1 + (n2 - 1) * s2) / (n1 + n2 - 2))\n",
        "\t# calculate the means of the samples\n",
        "\tu1, u2 = np.mean(d1), np.mean(d2)\n",
        "\t# calculate the effect size\n",
        "\treturn (u1 - u2) / s\n",
        "\n",
        "# calculate cohen's d\n",
        "d = cohend(p1, p2)\n",
        "print('Cohens d: %.3f' % d)"
      ],
      "metadata": {
        "colab": {
          "base_uri": "https://localhost:8080/"
        },
        "id": "YUUA_ZQRjSmg",
        "outputId": "b121c32d-02be-4cef-a918-2026b3cb4e94"
      },
      "execution_count": null,
      "outputs": [
        {
          "output_type": "stream",
          "name": "stdout",
          "text": [
            "Cohens d: 0.556\n"
          ]
        }
      ]
    },
    {
      "cell_type": "markdown",
      "source": [
        "> Paired"
      ],
      "metadata": {
        "id": "bNdUo0UcONqo"
      }
    },
    {
      "cell_type": "code",
      "source": [
        "plt.hist(paired['August'], bins='auto')\n",
        "plt.hist(paired['November'], bins='auto')\n",
        "plt.title(\"Histograma\")\n",
        "plt.show()"
      ],
      "metadata": {
        "colab": {
          "base_uri": "https://localhost:8080/",
          "height": 281
        },
        "id": "Q1c85Z6EOP6T",
        "outputId": "2591f828-c20b-408f-bb3c-3bc5d3c6ab91"
      },
      "execution_count": 30,
      "outputs": [
        {
          "output_type": "display_data",
          "data": {
            "text/plain": [
              "<Figure size 432x288 with 1 Axes>"
            ],
            "image/png": "[encoded data removed]"
          },
          "metadata": {
            "needs_background": "light"
          }
        }
      ]
    },
    {
      "cell_type": "code",
      "source": [
        "p1 = paired['August']\n",
        "p2 = paired['November']"
      ],
      "metadata": {
        "id": "3l2ihSIHRrjS"
      },
      "execution_count": 31,
      "outputs": []
    },
    {
      "cell_type": "code",
      "source": [
        "np.mean(p1)"
      ],
      "metadata": {
        "colab": {
          "base_uri": "https://localhost:8080/"
        },
        "id": "DSsqgrz0RytL",
        "outputId": "7e2a5b66-388d-4772-c6bc-a4dd1399fe72"
      },
      "execution_count": 32,
      "outputs": [
        {
          "output_type": "execute_result",
          "data": {
            "text/plain": [
              "11.423076923076925"
            ]
          },
          "metadata": {},
          "execution_count": 32
        }
      ]
    },
    {
      "cell_type": "code",
      "source": [
        "np.median(p1)"
      ],
      "metadata": {
        "colab": {
          "base_uri": "https://localhost:8080/"
        },
        "id": "zCzsi9DkzHWv",
        "outputId": "7822650c-1543-44a9-d0d8-fed644eae833"
      },
      "execution_count": 33,
      "outputs": [
        {
          "output_type": "execute_result",
          "data": {
            "text/plain": [
              "10.0"
            ]
          },
          "metadata": {},
          "execution_count": 33
        }
      ]
    },
    {
      "cell_type": "code",
      "source": [
        "np.mean(p2)"
      ],
      "metadata": {
        "colab": {
          "base_uri": "https://localhost:8080/"
        },
        "id": "DkklqG6UzE8z",
        "outputId": "857772fb-b5d5-4358-d929-f426adb3a903"
      },
      "execution_count": 34,
      "outputs": [
        {
          "output_type": "execute_result",
          "data": {
            "text/plain": [
              "16.323076923076922"
            ]
          },
          "metadata": {},
          "execution_count": 34
        }
      ]
    },
    {
      "cell_type": "code",
      "source": [
        "np.median(p2)"
      ],
      "metadata": {
        "colab": {
          "base_uri": "https://localhost:8080/"
        },
        "id": "pNzB8w2QzJv3",
        "outputId": "1f30638a-0826-472d-81c7-7380f66ef096"
      },
      "execution_count": 35,
      "outputs": [
        {
          "output_type": "execute_result",
          "data": {
            "text/plain": [
              "15.3"
            ]
          },
          "metadata": {},
          "execution_count": 35
        }
      ]
    },
    {
      "cell_type": "code",
      "source": [
        "len(p1), len(p2)"
      ],
      "metadata": {
        "colab": {
          "base_uri": "https://localhost:8080/"
        },
        "id": "QZvPBDdNR84d",
        "outputId": "8ba8b98a-4428-4749-ef33-668a9942251d"
      },
      "execution_count": null,
      "outputs": [
        {
          "output_type": "execute_result",
          "data": {
            "text/plain": [
              "(13, 13)"
            ]
          },
          "metadata": {},
          "execution_count": 90
        }
      ]
    },
    {
      "cell_type": "markdown",
      "source": [
        "> Teste T"
      ],
      "metadata": {
        "id": "Q8MfWZkeSDvH"
      }
    },
    {
      "cell_type": "code",
      "source": [
        "stats.ttest_ind(p1,p2)"
      ],
      "metadata": {
        "colab": {
          "base_uri": "https://localhost:8080/"
        },
        "id": "JV-29NEwSB_D",
        "outputId": "99aafd22-5ce1-45a9-b1a8-aabb8416ae87"
      },
      "execution_count": null,
      "outputs": [
        {
          "output_type": "execute_result",
          "data": {
            "text/plain": [
              "Ttest_indResult(statistic=-2.293400543711695, pvalue=0.03088448455801124)"
            ]
          },
          "metadata": {},
          "execution_count": 91
        }
      ]
    },
    {
      "cell_type": "markdown",
      "source": [
        "Wilcoxon rank sum - Não Pareados"
      ],
      "metadata": {
        "id": "-Xka5m2vUFXL"
      }
    },
    {
      "cell_type": "code",
      "source": [
        "stat, p = stats.ranksums(p1,p2)\n",
        "print('stat=%.3f, p=%.3f' % (stat, p))\n",
        "if p > 0.05:\n",
        "\tprint('Probably the same distribution')\n",
        "else:\n",
        "\tprint('Probably different distributions')"
      ],
      "metadata": {
        "colab": {
          "base_uri": "https://localhost:8080/"
        },
        "id": "3vShBWkeSHrg",
        "outputId": "62e94f04-6606-4cc9-d230-606f59fdc48a"
      },
      "execution_count": null,
      "outputs": [
        {
          "output_type": "stream",
          "name": "stdout",
          "text": [
            "stat=-2.385, p=0.017\n",
            "Probably different distributions\n"
          ]
        }
      ]
    },
    {
      "cell_type": "markdown",
      "source": [
        ">Wilcoxon rank sum - Pareados\n"
      ],
      "metadata": {
        "id": "2HEC4IVRSIq3"
      }
    },
    {
      "cell_type": "code",
      "source": [
        "stat, p = stats.wilcoxon(p1)\n",
        "print('stat=%.3f, p=%.3f' % (stat, p))\n",
        "if p > 0.05:\n",
        "\tprint('Probably the same distribution')\n",
        "else:\n",
        "\tprint('Probably different distributions')"
      ],
      "metadata": {
        "colab": {
          "base_uri": "https://localhost:8080/"
        },
        "id": "K6JSkyzRURBE",
        "outputId": "cb6f8f33-6b5b-4213-a8aa-fe571c650bcf"
      },
      "execution_count": null,
      "outputs": [
        {
          "output_type": "stream",
          "name": "stdout",
          "text": [
            "stat=0.000, p=0.000\n",
            "Probably different distributions\n"
          ]
        }
      ]
    },
    {
      "cell_type": "code",
      "source": [
        "stat, p = stats.wilcoxon(p1,p2)\n",
        "print('stat=%.3f, p=%.3f' % (stat, p))\n",
        "if p > 0.05:\n",
        "\tprint('Probably the same distribution')\n",
        "else:\n",
        "\tprint('Probably different distributions')"
      ],
      "metadata": {
        "colab": {
          "base_uri": "https://localhost:8080/"
        },
        "id": "1hCfDQ1aUXoR",
        "outputId": "c05d84b6-b62c-49f4-9a4b-3ef4ea588ae4"
      },
      "execution_count": null,
      "outputs": [
        {
          "output_type": "stream",
          "name": "stdout",
          "text": [
            "stat=16.000, p=0.040\n",
            "Probably different distributions\n"
          ]
        }
      ]
    }
  ]
}